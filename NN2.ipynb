{
  "nbformat": 4,
  "nbformat_minor": 0,
  "metadata": {
    "colab": {
      "provenance": []
    },
    "kernelspec": {
      "name": "python3",
      "display_name": "Python 3"
    },
    "language_info": {
      "name": "python"
    }
  },
  "cells": [
    {
      "cell_type": "code",
      "execution_count": 2,
      "metadata": {
        "colab": {
          "base_uri": "https://localhost:8080/"
        },
        "id": "hAm4VhBrw4gu",
        "outputId": "e3a66a37-802c-4899-8873-b0482af6e029"
      },
      "outputs": [
        {
          "output_type": "stream",
          "name": "stdout",
          "text": [
            "Enter your first name: sucharitha\n",
            "Enter your last name: aeluri\n",
            "Full Name: sucharitha aeluri\n"
          ]
        }
      ],
      "source": [
        "def fullname(first_name, last_name):\n",
        "    return first_name + \" \" + last_name\n",
        "\n",
        "# Get user input and display the result\n",
        "print(\"Full Name:\", fullname(input(\"Enter your first name: \"), input(\"Enter your last name: \")))\n"
      ]
    },
    {
      "cell_type": "code",
      "source": [
        "def string_alternative(full_name):\n",
        "    return full_name[::2]\n",
        "\n",
        "input_string = input(\"Enter a string: \")\n",
        "output_result = string_alternative(input_string)\n",
        "\n",
        "print(\"Output:\", output_result)\n"
      ],
      "metadata": {
        "colab": {
          "base_uri": "https://localhost:8080/"
        },
        "id": "w8EdhnNIxHuy",
        "outputId": "8f480ed3-b9ed-4a4d-fd2b-987940597bc7"
      },
      "execution_count": 11,
      "outputs": [
        {
          "output_type": "stream",
          "name": "stdout",
          "text": [
            "Enter a string: GOOD EVENING\n",
            "Output: GO VNN\n"
          ]
        }
      ]
    },
    {
      "cell_type": "code",
      "source": [
        "text = open(\"input.txt\", \"r\")\n",
        "d = dict()\n",
        "for line in text:\n",
        "  line = line.strip()\n",
        "  line = line.lower()\n",
        "  words = line.split(\" \")\n",
        "  for word in words:\n",
        "    if word in d:\n",
        "      d[word] = d[word] + 1\n",
        "    else:\n",
        "      d[word] = 1\n",
        "file1 = open('output.txt', 'w')\n",
        "s=\"\"\n",
        "for key in list(d.keys()):\n",
        "     s += key+ \":\" + str(d[key])+ \"\\n\"\n",
        "file1.write(s)\n",
        "file1.close()"
      ],
      "metadata": {
        "id": "yDwhLXzPydwh"
      },
      "execution_count": null,
      "outputs": []
    },
    {
      "cell_type": "code",
      "source": [
        "heights = [150, 155, 145, 148]\n",
        "centimeters = []\n",
        "\n",
        "for height in heights:\n",
        "    cm = height * 2.54\n",
        "    centimeters.append(cm)\n",
        "\n",
        "print(\"Heights in inches:\", heights)\n",
        "print(\"Heights in centimeters:\", centimeters)"
      ],
      "metadata": {
        "colab": {
          "base_uri": "https://localhost:8080/"
        },
        "id": "wrGa1KuXxQ99",
        "outputId": "56197828-e27f-4d2a-8730-95a7ea2ff7d3"
      },
      "execution_count": 8,
      "outputs": [
        {
          "output_type": "stream",
          "name": "stdout",
          "text": [
            "Heights in inches: [150, 155, 145, 148]\n",
            "Heights in centimeters: [381.0, 393.7, 368.3, 375.92]\n"
          ]
        }
      ]
    },
    {
      "cell_type": "code",
      "source": [
        "heights = [150,155, 145, 148] # sample list of heights in inches\n",
        "centimeters = [round(height * 2.54, 2) for height in heights] # convert each height in inches to centimeters and store it in a new list using list comprehension\n",
        "\n",
        "print(\"Heights in inches:\", heights)\n",
        "print(\"Heights in centimeters:\", centimeters)"
      ],
      "metadata": {
        "colab": {
          "base_uri": "https://localhost:8080/"
        },
        "id": "v6Ewaueaxk3Y",
        "outputId": "fb64b607-fd22-4277-d189-1b398bc6fa0a"
      },
      "execution_count": 10,
      "outputs": [
        {
          "output_type": "stream",
          "name": "stdout",
          "text": [
            "Heights in inches: [150, 155, 145, 148]\n",
            "Heights in centimeters: [381.0, 393.7, 368.3, 375.92]\n"
          ]
        }
      ]
    }
  ]
}